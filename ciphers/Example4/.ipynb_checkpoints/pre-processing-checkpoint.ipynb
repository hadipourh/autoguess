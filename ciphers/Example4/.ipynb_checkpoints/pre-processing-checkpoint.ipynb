{
 "cells": [
  {
   "cell_type": "code",
   "execution_count": 1,
   "metadata": {},
   "outputs": [
    {
     "name": "stdout",
     "output_type": "stream",
     "text": [
      "Defining x1, x2, x3, x4, x5\n",
      "Groebner basis: [x1*x4 + x4, x1*x5 + x5, x2 + x5, x3 + x4 + x5, x4*x5 + x4]\n",
      "Rank: 4\n",
      "|Vars| - Rank = 1\n",
      "[  x1*x2 + x3*x5 + x4]\n",
      "[x1*x3 + x2 + x3 + x5]\n",
      "[  x1*x5 + x2*x3 + x4]\n",
      "[     x2*x4 + x3 + x5]\n"
     ]
    }
   ],
   "source": [
    "reset()\n",
    "n = 6\n",
    "from sage.rings.polynomial.multi_polynomial_sequence import PolynomialSequence\n",
    "R = BooleanPolynomialRing(n - 1, names=['x%i' % i for i in range(1, n)])\n",
    "R.inject_variables()\n",
    "#################\n",
    "f1 = x1*x2 + x3*x5 + x4\n",
    "f2 = x2*x4 + x3 + x5\n",
    "f3 = x1*x5 + x2*x3 + x4\n",
    "f4 = x1*x3 + x2*x4 + x2\n",
    "#################\n",
    "ps = PolynomialSequence([f1, f2, f3, f4])\n",
    "A, v = ps.coefficient_matrix()\n",
    "print(\"Groebner basis: %s\" % ps.groebner_basis('linear'))\n",
    "print(\"Rank: %s\" % A.rank())\n",
    "print(\"|Vars| - Rank = %d\" % (ps.nvariables() - A.rank()))\n",
    "print(A.echelon_form() * v)\n",
    "#################"
   ]
  },
  {
   "cell_type": "code",
   "execution_count": 30,
   "metadata": {},
   "outputs": [
    {
     "data": {
      "text/plain": [
       "[]"
      ]
     },
     "execution_count": 30,
     "metadata": {},
     "output_type": "execute_result"
    }
   ],
   "source": [
    "ps.groebner_basis(deg_bound=1)"
   ]
  },
  {
   "cell_type": "code",
   "execution_count": null,
   "metadata": {},
   "outputs": [],
   "source": []
  },
  {
   "cell_type": "code",
   "execution_count": null,
   "metadata": {},
   "outputs": [],
   "source": [
    "from sage.rings.polynomial.groebner_fan"
   ]
  },
  {
   "cell_type": "code",
   "execution_count": null,
   "metadata": {},
   "outputs": [],
   "source": [
    "f1 = x1*x2 + x3*x5 + x4\n",
    "f2 = x2*x4 + x3 + x5\n",
    "f3 = x1*x5 + x2*x3 + x4\n",
    "f4 = x1*x3 + x2*x4 + x2\n",
    "===============\n",
    "x1*x4 + x4,\n",
    "x1*x5 + x5, \n",
    "x2 + x5, \n",
    "x3 + x4 + x5, \n",
    "x4*x5 + x4"
   ]
  },
  {
   "cell_type": "code",
   "execution_count": null,
   "metadata": {},
   "outputs": [],
   "source": [
    "x1, x2 => x12\n",
    "x3, x5 => x35\n",
    "x12, x35, x4\n",
    "x2, x4 => x24\n",
    "x24, x3, x5\n",
    "x1, x5 => x15\n",
    "x2, x3 => x23\n",
    "x15, x23, x4\n",
    "x13, x24, x2\n",
    "x1, x4 => x14\n",
    "x14, x4\n",
    "x15, x5\n",
    "x2, x5\n",
    "x3, x4, x5\n",
    "x4, x5 => x45\n",
    "x45, x4\n",
    "target, x1, x2, x3, x4, x5"
   ]
  },
  {
   "cell_type": "code",
   "execution_count": 7,
   "metadata": {},
   "outputs": [],
   "source": [
    "from sympy.solvers.polysys import solve_triangulated\n",
    "from sympy.abc import x, y, z\n",
    "from sympy import groebner"
   ]
  },
  {
   "cell_type": "code",
   "execution_count": 3,
   "metadata": {},
   "outputs": [],
   "source": [
    "F = [x**2 + y + z - 1, x + y**2 + z - 1, x + y + z**2 - 1]"
   ]
  },
  {
   "cell_type": "code",
   "execution_count": 8,
   "metadata": {},
   "outputs": [
    {
     "data": {
      "text/latex": [
       "$\\displaystyle GroebnerBasis\\left(\\left( \\operatorname{Poly}{\\left( x + y + z^{2} - 1, x, y, z, domain=\\mathbb{Z} \\right)}, \\  \\operatorname{Poly}{\\left( y^{2} - y - z^{2} + z, x, y, z, domain=\\mathbb{Z} \\right)}, \\  \\operatorname{Poly}{\\left( 2 yz^{2} + z^{4} - z^{2}, x, y, z, domain=\\mathbb{Z} \\right)}, \\  \\operatorname{Poly}{\\left( z^{6} - 4 z^{4} + 4 z^{3} - z^{2}, x, y, z, domain=\\mathbb{Z} \\right)}\\right), \\left( x, \\  y, \\  z\\right)\\right)$"
      ],
      "text/plain": [
       "GroebnerBasis([x + y + z**2 - 1, y**2 - y - z**2 + z, 2*y*z**2 + z**4 - z**2, z**6 - 4*z**4 + 4*z**3 - z**2], x, y, z, domain='ZZ', order='lex')"
      ]
     },
     "execution_count": 8,
     "metadata": {},
     "output_type": "execute_result"
    }
   ],
   "source": [
    "groebner(F)"
   ]
  },
  {
   "cell_type": "code",
   "execution_count": 10,
   "metadata": {},
   "outputs": [
    {
     "data": {
      "text/latex": [
       "$\\displaystyle x^{2} + y + z - 1$"
      ],
      "text/plain": [
       "x**2 + y + z - 1"
      ]
     },
     "execution_count": 10,
     "metadata": {},
     "output_type": "execute_result"
    }
   ],
   "source": [
    "f = F[0]\n",
    "f."
   ]
  },
  {
   "cell_type": "code",
   "execution_count": 4,
   "metadata": {},
   "outputs": [],
   "source": [
    "f = symbolic_expression(\"x1*x3 + 2\")"
   ]
  },
  {
   "cell_type": "code",
   "execution_count": 6,
   "metadata": {},
   "outputs": [
    {
     "data": {
      "text/plain": [
       "(x1, x3)"
      ]
     },
     "execution_count": 6,
     "metadata": {},
     "output_type": "execute_result"
    }
   ],
   "source": [
    "f.variables()"
   ]
  },
  {
   "cell_type": "code",
   "execution_count": null,
   "metadata": {},
   "outputs": [],
   "source": []
  }
 ],
 "metadata": {
  "kernelspec": {
   "display_name": "SageMath 9.1",
   "language": "sage",
   "name": "sagemath"
  },
  "language_info": {
   "codemirror_mode": {
    "name": "ipython",
    "version": 3
   },
   "file_extension": ".py",
   "mimetype": "text/x-python",
   "name": "python",
   "nbconvert_exporter": "python",
   "pygments_lexer": "ipython3",
   "version": "3.7.3"
  }
 },
 "nbformat": 4,
 "nbformat_minor": 2
}
